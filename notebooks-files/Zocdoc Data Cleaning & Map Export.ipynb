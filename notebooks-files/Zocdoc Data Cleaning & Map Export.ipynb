{
 "cells": [
  {
   "cell_type": "markdown",
   "id": "9f85aa40",
   "metadata": {},
   "source": [
    "# From dataframe to geojson\n",
    "\n",
    "This notebook transforms the dataframe outputted from the scrape (see Zocdoc scrape.ipynb) into a frame grouped by zip code with columns containing HTML text as a string to be displayed alongside and on the map.  "
   ]
  },
  {
   "cell_type": "code",
   "execution_count": 638,
   "id": "0dfa1b3a",
   "metadata": {},
   "outputs": [],
   "source": [
    "import pandas as pd\n",
    "from collections import Counter"
   ]
  },
  {
   "cell_type": "code",
   "execution_count": 639,
   "id": "f5a254e8",
   "metadata": {},
   "outputs": [],
   "source": [
    "df = pd.read_csv('all-zocdoc-data-nyc.csv')"
   ]
  },
  {
   "cell_type": "code",
   "execution_count": 685,
   "id": "44cb0e60",
   "metadata": {},
   "outputs": [
    {
     "data": {
      "text/html": [
       "<div>\n",
       "<style scoped>\n",
       "    .dataframe tbody tr th:only-of-type {\n",
       "        vertical-align: middle;\n",
       "    }\n",
       "\n",
       "    .dataframe tbody tr th {\n",
       "        vertical-align: top;\n",
       "    }\n",
       "\n",
       "    .dataframe thead th {\n",
       "        text-align: right;\n",
       "    }\n",
       "</style>\n",
       "<table border=\"1\" class=\"dataframe\">\n",
       "  <thead>\n",
       "    <tr style=\"text-align: right;\">\n",
       "      <th></th>\n",
       "      <th>name</th>\n",
       "      <th>specialty</th>\n",
       "      <th>street_address</th>\n",
       "      <th>city</th>\n",
       "      <th>state</th>\n",
       "      <th>zip</th>\n",
       "      <th>rating</th>\n",
       "      <th>num_reviews</th>\n",
       "      <th>next_appt</th>\n",
       "      <th>num_appts_next_5days</th>\n",
       "      <th>sponsored</th>\n",
       "      <th>education</th>\n",
       "      <th>languages</th>\n",
       "      <th>gender</th>\n",
       "      <th>npi</th>\n",
       "      <th>insurance</th>\n",
       "      <th>name_address_string</th>\n",
       "    </tr>\n",
       "  </thead>\n",
       "  <tbody>\n",
       "    <tr>\n",
       "      <th>0</th>\n",
       "      <td>Dr. Igor Kletsman, MD</td>\n",
       "      <td>Primary Care Doctor</td>\n",
       "      <td>23 W 45th Street, 2nd Floor</td>\n",
       "      <td>New York</td>\n",
       "      <td>NY</td>\n",
       "      <td>10036</td>\n",
       "      <td>4.70</td>\n",
       "      <td>3249</td>\n",
       "      <td>2021-12-14 08:30:00</td>\n",
       "      <td>3</td>\n",
       "      <td>False</td>\n",
       "      <td>['Medical School - Saba University School of M...</td>\n",
       "      <td>['English', 'Russian', 'Polish', 'Ukrainian']</td>\n",
       "      <td>Male</td>\n",
       "      <td>1.447298e+09</td>\n",
       "      <td>['1199SEIU', 'Aetna', 'Anthem Blue Cross', 'An...</td>\n",
       "      <td>&lt;li&gt;Dr. Igor Kletsman, MD (23 W 45th Street, 2...</td>\n",
       "    </tr>\n",
       "    <tr>\n",
       "      <th>1</th>\n",
       "      <td>Dr. Mukund Das, MD</td>\n",
       "      <td>Primary Care Doctor</td>\n",
       "      <td>548 W 28th St, Ste 333</td>\n",
       "      <td>New York</td>\n",
       "      <td>NY</td>\n",
       "      <td>10001</td>\n",
       "      <td>4.43</td>\n",
       "      <td>21</td>\n",
       "      <td>2021-12-14 08:15:00</td>\n",
       "      <td>3</td>\n",
       "      <td>False</td>\n",
       "      <td>[\"Medical School - St. George's University Sch...</td>\n",
       "      <td>['English']</td>\n",
       "      <td>Male</td>\n",
       "      <td>1.831552e+09</td>\n",
       "      <td>['Aetna', 'Caterpillar', 'Cigna', 'Cigna-Healt...</td>\n",
       "      <td>&lt;li&gt;Dr. Mukund Das, MD (548 W 28th St, Ste 333...</td>\n",
       "    </tr>\n",
       "    <tr>\n",
       "      <th>2</th>\n",
       "      <td>Dr. Weymin Hago, MD</td>\n",
       "      <td>Primary Care Doctor</td>\n",
       "      <td>274 Madison Avenue, Room 1804</td>\n",
       "      <td>New York</td>\n",
       "      <td>NY</td>\n",
       "      <td>10016</td>\n",
       "      <td>4.93</td>\n",
       "      <td>1830</td>\n",
       "      <td>2021-12-28 13:30:00</td>\n",
       "      <td>0</td>\n",
       "      <td>False</td>\n",
       "      <td>[\"Medical School - Ross University School of M...</td>\n",
       "      <td>['English', 'Spanish']</td>\n",
       "      <td>Male</td>\n",
       "      <td>1.992941e+09</td>\n",
       "      <td>['1199SEIU', 'AARP', 'Aetna', 'Anthem Blue Cro...</td>\n",
       "      <td>&lt;li&gt;Dr. Weymin Hago, MD (274 Madison Avenue, R...</td>\n",
       "    </tr>\n",
       "    <tr>\n",
       "      <th>3</th>\n",
       "      <td>Dr. Alexis Drullinsky, MD</td>\n",
       "      <td>Primary Care Doctor</td>\n",
       "      <td>55 E 34th St, 1st Floor</td>\n",
       "      <td>New York</td>\n",
       "      <td>NY</td>\n",
       "      <td>10016</td>\n",
       "      <td>4.76</td>\n",
       "      <td>2391</td>\n",
       "      <td>2021-12-14 12:00:00</td>\n",
       "      <td>3</td>\n",
       "      <td>False</td>\n",
       "      <td>['Medical School - Sackler School of Medicine,...</td>\n",
       "      <td>['English', 'Spanish']</td>\n",
       "      <td>Male</td>\n",
       "      <td>1.518930e+09</td>\n",
       "      <td>['1199SEIU', 'Aetna', 'AgeWell New York', 'Ame...</td>\n",
       "      <td>&lt;li&gt;Dr. Alexis Drullinsky, MD (55 E 34th St, 1...</td>\n",
       "    </tr>\n",
       "    <tr>\n",
       "      <th>4</th>\n",
       "      <td>Dr. Jonathan Weinberger, MD</td>\n",
       "      <td>Primary Care Doctor</td>\n",
       "      <td>145 E 32nd St, Suite 303</td>\n",
       "      <td>New York</td>\n",
       "      <td>NY</td>\n",
       "      <td>10016</td>\n",
       "      <td>4.92</td>\n",
       "      <td>628</td>\n",
       "      <td>2021-12-21 14:00:00</td>\n",
       "      <td>0</td>\n",
       "      <td>False</td>\n",
       "      <td>['Medical School - Albert Einstein College of ...</td>\n",
       "      <td>['English']</td>\n",
       "      <td>Male</td>\n",
       "      <td>1.851735e+09</td>\n",
       "      <td>['1199SEIU', 'AARP', 'Aetna', 'Anthem Blue Cro...</td>\n",
       "      <td>&lt;li&gt;Dr. Jonathan Weinberger, MD (145 E 32nd St...</td>\n",
       "    </tr>\n",
       "  </tbody>\n",
       "</table>\n",
       "</div>"
      ],
      "text/plain": [
       "                          name            specialty  \\\n",
       "0        Dr. Igor Kletsman, MD  Primary Care Doctor   \n",
       "1           Dr. Mukund Das, MD  Primary Care Doctor   \n",
       "2          Dr. Weymin Hago, MD  Primary Care Doctor   \n",
       "3    Dr. Alexis Drullinsky, MD  Primary Care Doctor   \n",
       "4  Dr. Jonathan Weinberger, MD  Primary Care Doctor   \n",
       "\n",
       "                  street_address      city state    zip  rating  num_reviews  \\\n",
       "0    23 W 45th Street, 2nd Floor  New York    NY  10036    4.70         3249   \n",
       "1         548 W 28th St, Ste 333  New York    NY  10001    4.43           21   \n",
       "2  274 Madison Avenue, Room 1804  New York    NY  10016    4.93         1830   \n",
       "3        55 E 34th St, 1st Floor  New York    NY  10016    4.76         2391   \n",
       "4       145 E 32nd St, Suite 303  New York    NY  10016    4.92          628   \n",
       "\n",
       "            next_appt  num_appts_next_5days  sponsored  \\\n",
       "0 2021-12-14 08:30:00                     3      False   \n",
       "1 2021-12-14 08:15:00                     3      False   \n",
       "2 2021-12-28 13:30:00                     0      False   \n",
       "3 2021-12-14 12:00:00                     3      False   \n",
       "4 2021-12-21 14:00:00                     0      False   \n",
       "\n",
       "                                           education  \\\n",
       "0  ['Medical School - Saba University School of M...   \n",
       "1  [\"Medical School - St. George's University Sch...   \n",
       "2  [\"Medical School - Ross University School of M...   \n",
       "3  ['Medical School - Sackler School of Medicine,...   \n",
       "4  ['Medical School - Albert Einstein College of ...   \n",
       "\n",
       "                                       languages gender           npi  \\\n",
       "0  ['English', 'Russian', 'Polish', 'Ukrainian']   Male  1.447298e+09   \n",
       "1                                    ['English']   Male  1.831552e+09   \n",
       "2                         ['English', 'Spanish']   Male  1.992941e+09   \n",
       "3                         ['English', 'Spanish']   Male  1.518930e+09   \n",
       "4                                    ['English']   Male  1.851735e+09   \n",
       "\n",
       "                                           insurance  \\\n",
       "0  ['1199SEIU', 'Aetna', 'Anthem Blue Cross', 'An...   \n",
       "1  ['Aetna', 'Caterpillar', 'Cigna', 'Cigna-Healt...   \n",
       "2  ['1199SEIU', 'AARP', 'Aetna', 'Anthem Blue Cro...   \n",
       "3  ['1199SEIU', 'Aetna', 'AgeWell New York', 'Ame...   \n",
       "4  ['1199SEIU', 'AARP', 'Aetna', 'Anthem Blue Cro...   \n",
       "\n",
       "                                 name_address_string  \n",
       "0  <li>Dr. Igor Kletsman, MD (23 W 45th Street, 2...  \n",
       "1  <li>Dr. Mukund Das, MD (548 W 28th St, Ste 333...  \n",
       "2  <li>Dr. Weymin Hago, MD (274 Madison Avenue, R...  \n",
       "3  <li>Dr. Alexis Drullinsky, MD (55 E 34th St, 1...  \n",
       "4  <li>Dr. Jonathan Weinberger, MD (145 E 32nd St...  "
      ]
     },
     "execution_count": 685,
     "metadata": {},
     "output_type": "execute_result"
    }
   ],
   "source": [
    "df.head()"
   ]
  },
  {
   "cell_type": "markdown",
   "id": "ba17b703",
   "metadata": {},
   "source": [
    "## Generating the HTML for the map article text "
   ]
  },
  {
   "cell_type": "markdown",
   "id": "c5c6b956",
   "metadata": {},
   "source": [
    "This section pulls from various columns in the dataframe to generate strings that will be displayed in the article alongside the map."
   ]
  },
  {
   "cell_type": "markdown",
   "id": "7ab41c93",
   "metadata": {},
   "source": [
    "Creating a title for each page consisting of the zip and city"
   ]
  },
  {
   "cell_type": "code",
   "execution_count": 641,
   "id": "c34af1c1",
   "metadata": {},
   "outputs": [],
   "source": [
    "zip_city_grouping = df.groupby('zip').city.value_counts().groupby(level=0, group_keys=False).nlargest(1).reset_index(name='city_title')"
   ]
  },
  {
   "cell_type": "code",
   "execution_count": 642,
   "id": "46a61926",
   "metadata": {},
   "outputs": [],
   "source": [
    "zip_city_grouping.drop(labels='city_title', axis=1, inplace=True)"
   ]
  },
  {
   "cell_type": "code",
   "execution_count": 643,
   "id": "41248c26",
   "metadata": {},
   "outputs": [],
   "source": [
    "zip_city_grouping['title_html'] = '<h1>' + zip_city_grouping.zip.astype(str).str.zfill(5) + ' –⁠ ' + zip_city_grouping.city + '</h1>'\n"
   ]
  },
  {
   "cell_type": "code",
   "execution_count": 644,
   "id": "f732791b",
   "metadata": {},
   "outputs": [
    {
     "data": {
      "text/html": [
       "<div>\n",
       "<style scoped>\n",
       "    .dataframe tbody tr th:only-of-type {\n",
       "        vertical-align: middle;\n",
       "    }\n",
       "\n",
       "    .dataframe tbody tr th {\n",
       "        vertical-align: top;\n",
       "    }\n",
       "\n",
       "    .dataframe thead th {\n",
       "        text-align: right;\n",
       "    }\n",
       "</style>\n",
       "<table border=\"1\" class=\"dataframe\">\n",
       "  <thead>\n",
       "    <tr style=\"text-align: right;\">\n",
       "      <th></th>\n",
       "      <th>zip</th>\n",
       "      <th>title_html</th>\n",
       "    </tr>\n",
       "  </thead>\n",
       "  <tbody>\n",
       "    <tr>\n",
       "      <th>0</th>\n",
       "      <td>7302</td>\n",
       "      <td>&lt;h1&gt;07302 –⁠ Jersey City&lt;/h1&gt;</td>\n",
       "    </tr>\n",
       "    <tr>\n",
       "      <th>1</th>\n",
       "      <td>8536</td>\n",
       "      <td>&lt;h1&gt;08536 –⁠ Plainsboro Township&lt;/h1&gt;</td>\n",
       "    </tr>\n",
       "    <tr>\n",
       "      <th>2</th>\n",
       "      <td>10001</td>\n",
       "      <td>&lt;h1&gt;10001 –⁠ New York&lt;/h1&gt;</td>\n",
       "    </tr>\n",
       "    <tr>\n",
       "      <th>3</th>\n",
       "      <td>10002</td>\n",
       "      <td>&lt;h1&gt;10002 –⁠ New York&lt;/h1&gt;</td>\n",
       "    </tr>\n",
       "    <tr>\n",
       "      <th>4</th>\n",
       "      <td>10003</td>\n",
       "      <td>&lt;h1&gt;10003 –⁠ New York&lt;/h1&gt;</td>\n",
       "    </tr>\n",
       "  </tbody>\n",
       "</table>\n",
       "</div>"
      ],
      "text/plain": [
       "     zip                             title_html\n",
       "0   7302          <h1>07302 –⁠ Jersey City</h1>\n",
       "1   8536  <h1>08536 –⁠ Plainsboro Township</h1>\n",
       "2  10001             <h1>10001 –⁠ New York</h1>\n",
       "3  10002             <h1>10002 –⁠ New York</h1>\n",
       "4  10003             <h1>10003 –⁠ New York</h1>"
      ]
     },
     "execution_count": 644,
     "metadata": {},
     "output_type": "execute_result"
    }
   ],
   "source": [
    "zip_city_grouping.drop(labels='city', axis=1, inplace=True)\n",
    "zip_city_grouping.head()"
   ]
  },
  {
   "cell_type": "markdown",
   "id": "c39298da",
   "metadata": {},
   "source": [
    "Creating an unordered list of doctos in each zip code:"
   ]
  },
  {
   "cell_type": "code",
   "execution_count": 645,
   "id": "39ca4525",
   "metadata": {},
   "outputs": [],
   "source": [
    "df['name_address_string'] = '<li>' + df.name + ' (' + df.street_address + ')</li>' "
   ]
  },
  {
   "cell_type": "code",
   "execution_count": 646,
   "id": "834be944",
   "metadata": {},
   "outputs": [],
   "source": [
    "name_address_grouping = df.groupby('zip').name_address_string.sum().reset_index(name='doc_html')\n"
   ]
  },
  {
   "cell_type": "code",
   "execution_count": 647,
   "id": "0db02ad1",
   "metadata": {},
   "outputs": [],
   "source": [
    "name_address_grouping['doc_html'] = '<ul>' + name_address_grouping.doc_html + '</ul>'"
   ]
  },
  {
   "cell_type": "code",
   "execution_count": 648,
   "id": "10df9d78",
   "metadata": {},
   "outputs": [
    {
     "data": {
      "text/html": [
       "<div>\n",
       "<style scoped>\n",
       "    .dataframe tbody tr th:only-of-type {\n",
       "        vertical-align: middle;\n",
       "    }\n",
       "\n",
       "    .dataframe tbody tr th {\n",
       "        vertical-align: top;\n",
       "    }\n",
       "\n",
       "    .dataframe thead th {\n",
       "        text-align: right;\n",
       "    }\n",
       "</style>\n",
       "<table border=\"1\" class=\"dataframe\">\n",
       "  <thead>\n",
       "    <tr style=\"text-align: right;\">\n",
       "      <th></th>\n",
       "      <th>zip</th>\n",
       "      <th>doc_html</th>\n",
       "    </tr>\n",
       "  </thead>\n",
       "  <tbody>\n",
       "    <tr>\n",
       "      <th>0</th>\n",
       "      <td>7302</td>\n",
       "      <td>&lt;ul&gt;&lt;li&gt;Dr. Deval Gadhvi, MD (34 Exchange Plac...</td>\n",
       "    </tr>\n",
       "    <tr>\n",
       "      <th>1</th>\n",
       "      <td>8536</td>\n",
       "      <td>&lt;ul&gt;&lt;li&gt;Dr. Valerie Layne, DNP (3 Liberty St, ...</td>\n",
       "    </tr>\n",
       "    <tr>\n",
       "      <th>2</th>\n",
       "      <td>10001</td>\n",
       "      <td>&lt;ul&gt;&lt;li&gt;Dr. Mukund Das, MD (548 W 28th St, Ste...</td>\n",
       "    </tr>\n",
       "    <tr>\n",
       "      <th>3</th>\n",
       "      <td>10002</td>\n",
       "      <td>&lt;ul&gt;&lt;li&gt;Dr. Ameer Hmeidan, MD (104 Delancey St...</td>\n",
       "    </tr>\n",
       "    <tr>\n",
       "      <th>4</th>\n",
       "      <td>10003</td>\n",
       "      <td>&lt;ul&gt;&lt;li&gt;Dr. John Adams, MD (119 5th Avenue, 2n...</td>\n",
       "    </tr>\n",
       "    <tr>\n",
       "      <th>...</th>\n",
       "      <td>...</td>\n",
       "      <td>...</td>\n",
       "    </tr>\n",
       "    <tr>\n",
       "      <th>110</th>\n",
       "      <td>11426</td>\n",
       "      <td>&lt;ul&gt;&lt;li&gt;Dr. Steven Celestin, MD (24818 Union T...</td>\n",
       "    </tr>\n",
       "    <tr>\n",
       "      <th>111</th>\n",
       "      <td>11428</td>\n",
       "      <td>&lt;ul&gt;&lt;li&gt;Dr. Charlene Andrews, MD (22001 Jamaic...</td>\n",
       "    </tr>\n",
       "    <tr>\n",
       "      <th>112</th>\n",
       "      <td>11432</td>\n",
       "      <td>&lt;ul&gt;&lt;li&gt;Dr. Iffat Sadique, MD (168-06 Hillside...</td>\n",
       "    </tr>\n",
       "    <tr>\n",
       "      <th>113</th>\n",
       "      <td>11434</td>\n",
       "      <td>&lt;ul&gt;&lt;li&gt;Candice Waith, PAC (16995 137th Ave)&lt;/...</td>\n",
       "    </tr>\n",
       "    <tr>\n",
       "      <th>114</th>\n",
       "      <td>11691</td>\n",
       "      <td>&lt;ul&gt;&lt;li&gt;Susane Frith-Headley, FNP (1612 Centra...</td>\n",
       "    </tr>\n",
       "  </tbody>\n",
       "</table>\n",
       "<p>115 rows × 2 columns</p>\n",
       "</div>"
      ],
      "text/plain": [
       "       zip                                           doc_html\n",
       "0     7302  <ul><li>Dr. Deval Gadhvi, MD (34 Exchange Plac...\n",
       "1     8536  <ul><li>Dr. Valerie Layne, DNP (3 Liberty St, ...\n",
       "2    10001  <ul><li>Dr. Mukund Das, MD (548 W 28th St, Ste...\n",
       "3    10002  <ul><li>Dr. Ameer Hmeidan, MD (104 Delancey St...\n",
       "4    10003  <ul><li>Dr. John Adams, MD (119 5th Avenue, 2n...\n",
       "..     ...                                                ...\n",
       "110  11426  <ul><li>Dr. Steven Celestin, MD (24818 Union T...\n",
       "111  11428  <ul><li>Dr. Charlene Andrews, MD (22001 Jamaic...\n",
       "112  11432  <ul><li>Dr. Iffat Sadique, MD (168-06 Hillside...\n",
       "113  11434  <ul><li>Candice Waith, PAC (16995 137th Ave)</...\n",
       "114  11691  <ul><li>Susane Frith-Headley, FNP (1612 Centra...\n",
       "\n",
       "[115 rows x 2 columns]"
      ]
     },
     "execution_count": 648,
     "metadata": {},
     "output_type": "execute_result"
    }
   ],
   "source": [
    "name_address_grouping"
   ]
  },
  {
   "cell_type": "code",
   "execution_count": 649,
   "id": "cb21f764",
   "metadata": {},
   "outputs": [
    {
     "data": {
      "text/plain": [
       "'<ul><li>Dr. Deval Gadhvi, MD (34 Exchange Place, Plaza II Harborside Financial Center)</li><li>Dr. Prahlad Gadhavi, MD (200 Hudson Street, Suite 145 Plaza 2)</li></ul>'"
      ]
     },
     "execution_count": 649,
     "metadata": {},
     "output_type": "execute_result"
    }
   ],
   "source": [
    "name_address_grouping.doc_html[0]"
   ]
  },
  {
   "cell_type": "markdown",
   "id": "3dddb265",
   "metadata": {},
   "source": [
    "Getting a count of the total number of providers in each zip code"
   ]
  },
  {
   "cell_type": "code",
   "execution_count": 650,
   "id": "2d9c2dd3",
   "metadata": {},
   "outputs": [],
   "source": [
    "doc_count_grouping = df.groupby('zip').name.count().reset_index(name='doc_count')"
   ]
  },
  {
   "cell_type": "code",
   "execution_count": 651,
   "id": "11742e69",
   "metadata": {},
   "outputs": [],
   "source": [
    "#pandas.DataFrame.loc[condition, column_label] = new_value\n",
    "doc_count_grouping['doc_count_html'] = '<p>There are ' + doc_count_grouping.doc_count.astype(str) + ' primary care providers in this zip code.</p>'\n",
    "doc_count_grouping.loc[doc_count_grouping.doc_count == 1, 'doc_count_html'] = '<p>There is 1 primary care provider in this zip code.</p>'"
   ]
  },
  {
   "cell_type": "code",
   "execution_count": 652,
   "id": "496b5552",
   "metadata": {},
   "outputs": [],
   "source": [
    "doc_count_grouping.drop(labels='doc_count', axis=1, inplace=True)"
   ]
  },
  {
   "cell_type": "markdown",
   "id": "cd8a7524",
   "metadata": {},
   "source": [
    "Getting a count of the number of providers who speak Spanish and Chinese, the two most popular languages spoken in NYC after English"
   ]
  },
  {
   "cell_type": "code",
   "execution_count": 653,
   "id": "6cc8fe2d",
   "metadata": {},
   "outputs": [
    {
     "name": "stderr",
     "output_type": "stream",
     "text": [
      "/var/folders/tx/ryc062z51z1287rjpvrp4jlc0000gn/T/ipykernel_80762/3293109743.py:2: SettingWithCopyWarning: \n",
      "A value is trying to be set on a copy of a slice from a DataFrame.\n",
      "Try using .loc[row_indexer,col_indexer] = value instead\n",
      "\n",
      "See the caveats in the documentation: https://pandas.pydata.org/pandas-docs/stable/user_guide/indexing.html#returning-a-view-versus-a-copy\n",
      "  langs['Spanish'] = langs.languages.str.contains('Spanish')\n",
      "/var/folders/tx/ryc062z51z1287rjpvrp4jlc0000gn/T/ipykernel_80762/3293109743.py:3: SettingWithCopyWarning: \n",
      "A value is trying to be set on a copy of a slice from a DataFrame.\n",
      "Try using .loc[row_indexer,col_indexer] = value instead\n",
      "\n",
      "See the caveats in the documentation: https://pandas.pydata.org/pandas-docs/stable/user_guide/indexing.html#returning-a-view-versus-a-copy\n",
      "  langs['Chinese'] = langs.languages.str.contains('Chinese')\n"
     ]
    }
   ],
   "source": [
    "langs = df[[\"zip\",\"languages\"]]\n",
    "langs['Spanish'] = langs.languages.str.contains('Spanish')\n",
    "langs['Chinese'] = langs.languages.str.contains('Chinese')"
   ]
  },
  {
   "cell_type": "code",
   "execution_count": 654,
   "id": "e45d42d0",
   "metadata": {},
   "outputs": [],
   "source": [
    "spanish_counts = langs[langs.Spanish == True].groupby('zip').Spanish.count().reset_index(name='num_spanish')\n",
    "chinese_counts = langs[langs.Chinese == True].groupby('zip').Chinese.count().reset_index(name='num_chinese')\n"
   ]
  },
  {
   "cell_type": "code",
   "execution_count": 655,
   "id": "2edb3a46",
   "metadata": {},
   "outputs": [],
   "source": [
    "spanish_counts['spanish_html'] = '<p>Spanish is spoken at ' + spanish_counts.num_spanish.astype(str) + \" of the provider's offices</p>\"\n",
    "chinese_counts['chinese_html'] = '<p>Mandarin or Cantonese is spoken at ' + chinese_counts.num_chinese.astype(str) + \" providers' offices</p>\"\n"
   ]
  },
  {
   "cell_type": "code",
   "execution_count": 656,
   "id": "5fa8c08a",
   "metadata": {},
   "outputs": [],
   "source": [
    "spanish_counts.drop(labels='num_spanish', axis=1, inplace=True)\n",
    "chinese_counts.drop(labels='num_chinese', axis=1, inplace=True)"
   ]
  },
  {
   "cell_type": "markdown",
   "id": "29422b71",
   "metadata": {},
   "source": [
    "Getting a count of the total number of available appointments in the next five days that the providers have, combined"
   ]
  },
  {
   "cell_type": "code",
   "execution_count": 657,
   "id": "c4b23820",
   "metadata": {},
   "outputs": [],
   "source": [
    "appt_counts_grouping = df.groupby('zip').num_appts_next_5days.sum().reset_index(name='total_appts')\n",
    "appt_counts_grouping['total_appts_html'] = \"<p>Among them, there are \" + appt_counts_grouping.total_appts.astype(str) + \" appointments available in the next 5 days.</p>\"\n"
   ]
  },
  {
   "cell_type": "markdown",
   "id": "78c8fa9d",
   "metadata": {},
   "source": [
    "Getting the soonest available appointment among all the providers in the zip code"
   ]
  },
  {
   "cell_type": "code",
   "execution_count": 658,
   "id": "ab8e238e",
   "metadata": {},
   "outputs": [],
   "source": [
    "df.next_appt = pd.to_datetime(df.next_appt)"
   ]
  },
  {
   "cell_type": "code",
   "execution_count": 659,
   "id": "af2b48be",
   "metadata": {},
   "outputs": [],
   "source": [
    "next_appt_grouping = df.groupby(by=['zip','name']).next_appt.min().groupby(level=0, group_keys=False).nsmallest(1).reset_index()\n"
   ]
  },
  {
   "cell_type": "code",
   "execution_count": 660,
   "id": "55b1d2e0",
   "metadata": {},
   "outputs": [],
   "source": [
    "next_appt_grouping['next_appt_html'] = \"<p>The soonest available appointment is with \" + next_appt_grouping.name + \" on \" + next_appt_grouping.next_appt.dt.strftime('%A, %B %-d at %-I:%M %p') + \"</p>\""
   ]
  },
  {
   "cell_type": "code",
   "execution_count": 661,
   "id": "3a4a8716",
   "metadata": {},
   "outputs": [],
   "source": [
    "next_appt_grouping.drop(labels=['name', 'next_appt'], axis=1, inplace=True)"
   ]
  },
  {
   "cell_type": "markdown",
   "id": "8e405d24",
   "metadata": {},
   "source": [
    "Joining all of the above dataframes. Each of these have a zip code column and a column containing a string with HTML, except from num_appt_grouping which retains the number of appointments (later used to determine color of each zip code on the map)"
   ]
  },
  {
   "cell_type": "code",
   "execution_count": 662,
   "id": "25d433a7",
   "metadata": {},
   "outputs": [],
   "source": [
    "grouping_dfs = [zip_city_grouping, doc_count_grouping, name_address_grouping, spanish_counts, chinese_counts, appt_counts_grouping, next_appt_grouping]\n"
   ]
  },
  {
   "cell_type": "code",
   "execution_count": 686,
   "id": "7e6080d6",
   "metadata": {},
   "outputs": [
    {
     "data": {
      "text/html": [
       "<div>\n",
       "<style scoped>\n",
       "    .dataframe tbody tr th:only-of-type {\n",
       "        vertical-align: middle;\n",
       "    }\n",
       "\n",
       "    .dataframe tbody tr th {\n",
       "        vertical-align: top;\n",
       "    }\n",
       "\n",
       "    .dataframe thead th {\n",
       "        text-align: right;\n",
       "    }\n",
       "</style>\n",
       "<table border=\"1\" class=\"dataframe\">\n",
       "  <thead>\n",
       "    <tr style=\"text-align: right;\">\n",
       "      <th></th>\n",
       "      <th>zip</th>\n",
       "      <th>title_html</th>\n",
       "      <th>doc_count_html</th>\n",
       "      <th>doc_html</th>\n",
       "      <th>spanish_html</th>\n",
       "      <th>chinese_html</th>\n",
       "      <th>total_appts</th>\n",
       "      <th>total_appts_html</th>\n",
       "      <th>next_appt_html</th>\n",
       "    </tr>\n",
       "  </thead>\n",
       "  <tbody>\n",
       "    <tr>\n",
       "      <th>0</th>\n",
       "      <td>7302</td>\n",
       "      <td>&lt;h1&gt;07302 –⁠ Jersey City&lt;/h1&gt;</td>\n",
       "      <td>&lt;p&gt;There are 2 primary care providers in this ...</td>\n",
       "      <td>&lt;ul&gt;&lt;li&gt;Dr. Deval Gadhvi, MD (34 Exchange Plac...</td>\n",
       "      <td>&lt;p&gt;Spanish is spoken at 2 of the provider's of...</td>\n",
       "      <td>&lt;p&gt;None of the providers speak Chinese&lt;/p&gt;</td>\n",
       "      <td>6</td>\n",
       "      <td>&lt;p&gt;Among them, there are 6 appointments availa...</td>\n",
       "      <td>&lt;p&gt;The soonest available appointment is with D...</td>\n",
       "    </tr>\n",
       "    <tr>\n",
       "      <th>1</th>\n",
       "      <td>8536</td>\n",
       "      <td>&lt;h1&gt;08536 –⁠ Plainsboro Township&lt;/h1&gt;</td>\n",
       "      <td>&lt;p&gt;There is 1 primary care provider in this zi...</td>\n",
       "      <td>&lt;ul&gt;&lt;li&gt;Dr. Valerie Layne, DNP (3 Liberty St, ...</td>\n",
       "      <td>&lt;p&gt;None of the providers speak Spanish&lt;/p&gt;</td>\n",
       "      <td>&lt;p&gt;None of the providers speak Chinese&lt;/p&gt;</td>\n",
       "      <td>1</td>\n",
       "      <td>&lt;p&gt;Among them, there are 1 appointments availa...</td>\n",
       "      <td>&lt;p&gt;The soonest available appointment is with D...</td>\n",
       "    </tr>\n",
       "    <tr>\n",
       "      <th>2</th>\n",
       "      <td>10001</td>\n",
       "      <td>&lt;h1&gt;10001 –⁠ New York&lt;/h1&gt;</td>\n",
       "      <td>&lt;p&gt;There are 3 primary care providers in this ...</td>\n",
       "      <td>&lt;ul&gt;&lt;li&gt;Dr. Mukund Das, MD (548 W 28th St, Ste...</td>\n",
       "      <td>&lt;p&gt;None of the providers speak Spanish&lt;/p&gt;</td>\n",
       "      <td>&lt;p&gt;None of the providers speak Chinese&lt;/p&gt;</td>\n",
       "      <td>9</td>\n",
       "      <td>&lt;p&gt;Among them, there are 9 appointments availa...</td>\n",
       "      <td>&lt;p&gt;The soonest available appointment is with D...</td>\n",
       "    </tr>\n",
       "    <tr>\n",
       "      <th>3</th>\n",
       "      <td>10002</td>\n",
       "      <td>&lt;h1&gt;10002 –⁠ New York&lt;/h1&gt;</td>\n",
       "      <td>&lt;p&gt;There are 6 primary care providers in this ...</td>\n",
       "      <td>&lt;ul&gt;&lt;li&gt;Dr. Ameer Hmeidan, MD (104 Delancey St...</td>\n",
       "      <td>&lt;p&gt;None of the providers speak Spanish&lt;/p&gt;</td>\n",
       "      <td>&lt;p&gt;Mandarin or Cantonese is spoken at 1 provid...</td>\n",
       "      <td>0</td>\n",
       "      <td>&lt;p&gt;Among them, there are 0 appointments availa...</td>\n",
       "      <td>&lt;p&gt;The soonest available appointment is with D...</td>\n",
       "    </tr>\n",
       "    <tr>\n",
       "      <th>4</th>\n",
       "      <td>10003</td>\n",
       "      <td>&lt;h1&gt;10003 –⁠ New York&lt;/h1&gt;</td>\n",
       "      <td>&lt;p&gt;There are 10 primary care providers in this...</td>\n",
       "      <td>&lt;ul&gt;&lt;li&gt;Dr. John Adams, MD (119 5th Avenue, 2n...</td>\n",
       "      <td>&lt;p&gt;Spanish is spoken at 1 of the provider's of...</td>\n",
       "      <td>&lt;p&gt;None of the providers speak Chinese&lt;/p&gt;</td>\n",
       "      <td>12</td>\n",
       "      <td>&lt;p&gt;Among them, there are 12 appointments avail...</td>\n",
       "      <td>&lt;p&gt;The soonest available appointment is with D...</td>\n",
       "    </tr>\n",
       "  </tbody>\n",
       "</table>\n",
       "</div>"
      ],
      "text/plain": [
       "     zip                             title_html  \\\n",
       "0   7302          <h1>07302 –⁠ Jersey City</h1>   \n",
       "1   8536  <h1>08536 –⁠ Plainsboro Township</h1>   \n",
       "2  10001             <h1>10001 –⁠ New York</h1>   \n",
       "3  10002             <h1>10002 –⁠ New York</h1>   \n",
       "4  10003             <h1>10003 –⁠ New York</h1>   \n",
       "\n",
       "                                      doc_count_html  \\\n",
       "0  <p>There are 2 primary care providers in this ...   \n",
       "1  <p>There is 1 primary care provider in this zi...   \n",
       "2  <p>There are 3 primary care providers in this ...   \n",
       "3  <p>There are 6 primary care providers in this ...   \n",
       "4  <p>There are 10 primary care providers in this...   \n",
       "\n",
       "                                            doc_html  \\\n",
       "0  <ul><li>Dr. Deval Gadhvi, MD (34 Exchange Plac...   \n",
       "1  <ul><li>Dr. Valerie Layne, DNP (3 Liberty St, ...   \n",
       "2  <ul><li>Dr. Mukund Das, MD (548 W 28th St, Ste...   \n",
       "3  <ul><li>Dr. Ameer Hmeidan, MD (104 Delancey St...   \n",
       "4  <ul><li>Dr. John Adams, MD (119 5th Avenue, 2n...   \n",
       "\n",
       "                                        spanish_html  \\\n",
       "0  <p>Spanish is spoken at 2 of the provider's of...   \n",
       "1         <p>None of the providers speak Spanish</p>   \n",
       "2         <p>None of the providers speak Spanish</p>   \n",
       "3         <p>None of the providers speak Spanish</p>   \n",
       "4  <p>Spanish is spoken at 1 of the provider's of...   \n",
       "\n",
       "                                        chinese_html  total_appts  \\\n",
       "0         <p>None of the providers speak Chinese</p>            6   \n",
       "1         <p>None of the providers speak Chinese</p>            1   \n",
       "2         <p>None of the providers speak Chinese</p>            9   \n",
       "3  <p>Mandarin or Cantonese is spoken at 1 provid...            0   \n",
       "4         <p>None of the providers speak Chinese</p>           12   \n",
       "\n",
       "                                    total_appts_html  \\\n",
       "0  <p>Among them, there are 6 appointments availa...   \n",
       "1  <p>Among them, there are 1 appointments availa...   \n",
       "2  <p>Among them, there are 9 appointments availa...   \n",
       "3  <p>Among them, there are 0 appointments availa...   \n",
       "4  <p>Among them, there are 12 appointments avail...   \n",
       "\n",
       "                                      next_appt_html  \n",
       "0  <p>The soonest available appointment is with D...  \n",
       "1  <p>The soonest available appointment is with D...  \n",
       "2  <p>The soonest available appointment is with D...  \n",
       "3  <p>The soonest available appointment is with D...  \n",
       "4  <p>The soonest available appointment is with D...  "
      ]
     },
     "execution_count": 686,
     "metadata": {},
     "output_type": "execute_result"
    }
   ],
   "source": [
    "article = pd.DataFrame(zip_city_grouping)\n",
    "for frame in grouping_dfs[1:]:\n",
    "    article = article.merge(frame, how='outer')\n",
    "article.spanish_html = article.spanish_html.fillna('<p>None of the providers speak Spanish</p>')\n",
    "article.chinese_html = article.chinese_html.fillna('<p>None of the providers speak Chinese</p>')\n",
    "article.head()"
   ]
  },
  {
   "cell_type": "markdown",
   "id": "b1320b14",
   "metadata": {},
   "source": [
    "Combining each of these HTML string columns into one big column and generating an output dataframe with the necessary info"
   ]
  },
  {
   "cell_type": "code",
   "execution_count": 664,
   "id": "49eebff8",
   "metadata": {},
   "outputs": [],
   "source": [
    "article = article.fillna('')"
   ]
  },
  {
   "cell_type": "code",
   "execution_count": 665,
   "id": "ddc8ced6",
   "metadata": {},
   "outputs": [],
   "source": [
    "article['properties.article'] = article.title_html + '<p></p>' + article.doc_count_html + article.doc_html + \\\n",
    "                                '<p></p>' + article.spanish_html + article.chinese_html + '<p></p>' + \\\n",
    "                                article.total_appts_html + '<p></p>' + article.next_appt_html"
   ]
  },
  {
   "cell_type": "code",
   "execution_count": 666,
   "id": "2d934187",
   "metadata": {},
   "outputs": [],
   "source": [
    "output = article[['zip', 'title_html', 'properties.article', 'total_appts']]"
   ]
  },
  {
   "cell_type": "code",
   "execution_count": 667,
   "id": "ac8dd7d1",
   "metadata": {},
   "outputs": [],
   "source": [
    "output = output.rename(columns={'title_html':'properties.headline'})"
   ]
  },
  {
   "cell_type": "markdown",
   "id": "ab2f840c",
   "metadata": {},
   "source": [
    "Adding color based on number of appointments in each zip code"
   ]
  },
  {
   "cell_type": "code",
   "execution_count": 668,
   "id": "15754773",
   "metadata": {},
   "outputs": [],
   "source": [
    "color_ramp = ['#B8F1F5', '#A7E3F5', '#69AEDB', '#6CA7F5', '#6487E8']"
   ]
  },
  {
   "cell_type": "code",
   "execution_count": 669,
   "id": "bb664cc9",
   "metadata": {},
   "outputs": [
    {
     "data": {
      "text/plain": [
       "count    115.00000\n",
       "mean       5.13913\n",
       "std        7.06348\n",
       "min        0.00000\n",
       "25%        0.00000\n",
       "50%        3.00000\n",
       "75%        6.00000\n",
       "max       35.00000\n",
       "Name: total_appts, dtype: float64"
      ]
     },
     "execution_count": 669,
     "metadata": {},
     "output_type": "execute_result"
    }
   ],
   "source": [
    "output.total_appts.describe()"
   ]
  },
  {
   "cell_type": "code",
   "execution_count": 670,
   "id": "52d127b7",
   "metadata": {},
   "outputs": [],
   "source": [
    "output.loc[output.total_appts.between(0, 3, inclusive='both'), 'properties.color'] = color_ramp[0]\n",
    "output.loc[output.total_appts.between(4, 6, inclusive='both'), 'properties.color'] = color_ramp[1]\n",
    "output.loc[output.total_appts.between(7, 10, inclusive='both'), 'properties.color'] = color_ramp[2]\n",
    "output.loc[output.total_appts.between(11, 20, inclusive='both'), 'properties.color'] = color_ramp[3]\n",
    "output.loc[output.total_appts.between(21, 35, inclusive='both'), 'properties.color'] = color_ramp[4]"
   ]
  },
  {
   "cell_type": "code",
   "execution_count": 671,
   "id": "de66a280",
   "metadata": {},
   "outputs": [
    {
     "data": {
      "text/html": [
       "<div>\n",
       "<style scoped>\n",
       "    .dataframe tbody tr th:only-of-type {\n",
       "        vertical-align: middle;\n",
       "    }\n",
       "\n",
       "    .dataframe tbody tr th {\n",
       "        vertical-align: top;\n",
       "    }\n",
       "\n",
       "    .dataframe thead th {\n",
       "        text-align: right;\n",
       "    }\n",
       "</style>\n",
       "<table border=\"1\" class=\"dataframe\">\n",
       "  <thead>\n",
       "    <tr style=\"text-align: right;\">\n",
       "      <th></th>\n",
       "      <th>zip</th>\n",
       "      <th>properties.headline</th>\n",
       "      <th>properties.article</th>\n",
       "      <th>total_appts</th>\n",
       "      <th>properties.color</th>\n",
       "    </tr>\n",
       "  </thead>\n",
       "  <tbody>\n",
       "    <tr>\n",
       "      <th>0</th>\n",
       "      <td>7302</td>\n",
       "      <td>&lt;h1&gt;07302 –⁠ Jersey City&lt;/h1&gt;</td>\n",
       "      <td>&lt;h1&gt;07302 –⁠ Jersey City&lt;/h1&gt;&lt;p&gt;&lt;/p&gt;&lt;p&gt;There a...</td>\n",
       "      <td>6</td>\n",
       "      <td>#A7E3F5</td>\n",
       "    </tr>\n",
       "    <tr>\n",
       "      <th>1</th>\n",
       "      <td>8536</td>\n",
       "      <td>&lt;h1&gt;08536 –⁠ Plainsboro Township&lt;/h1&gt;</td>\n",
       "      <td>&lt;h1&gt;08536 –⁠ Plainsboro Township&lt;/h1&gt;&lt;p&gt;&lt;/p&gt;&lt;p...</td>\n",
       "      <td>1</td>\n",
       "      <td>#B8F1F5</td>\n",
       "    </tr>\n",
       "    <tr>\n",
       "      <th>2</th>\n",
       "      <td>10001</td>\n",
       "      <td>&lt;h1&gt;10001 –⁠ New York&lt;/h1&gt;</td>\n",
       "      <td>&lt;h1&gt;10001 –⁠ New York&lt;/h1&gt;&lt;p&gt;&lt;/p&gt;&lt;p&gt;There are ...</td>\n",
       "      <td>9</td>\n",
       "      <td>#69AEDB</td>\n",
       "    </tr>\n",
       "    <tr>\n",
       "      <th>3</th>\n",
       "      <td>10002</td>\n",
       "      <td>&lt;h1&gt;10002 –⁠ New York&lt;/h1&gt;</td>\n",
       "      <td>&lt;h1&gt;10002 –⁠ New York&lt;/h1&gt;&lt;p&gt;&lt;/p&gt;&lt;p&gt;There are ...</td>\n",
       "      <td>0</td>\n",
       "      <td>#B8F1F5</td>\n",
       "    </tr>\n",
       "    <tr>\n",
       "      <th>4</th>\n",
       "      <td>10003</td>\n",
       "      <td>&lt;h1&gt;10003 –⁠ New York&lt;/h1&gt;</td>\n",
       "      <td>&lt;h1&gt;10003 –⁠ New York&lt;/h1&gt;&lt;p&gt;&lt;/p&gt;&lt;p&gt;There are ...</td>\n",
       "      <td>12</td>\n",
       "      <td>#6CA7F5</td>\n",
       "    </tr>\n",
       "    <tr>\n",
       "      <th>...</th>\n",
       "      <td>...</td>\n",
       "      <td>...</td>\n",
       "      <td>...</td>\n",
       "      <td>...</td>\n",
       "      <td>...</td>\n",
       "    </tr>\n",
       "    <tr>\n",
       "      <th>110</th>\n",
       "      <td>11426</td>\n",
       "      <td>&lt;h1&gt;11426 –⁠ Bellerose&lt;/h1&gt;</td>\n",
       "      <td>&lt;h1&gt;11426 –⁠ Bellerose&lt;/h1&gt;&lt;p&gt;&lt;/p&gt;&lt;p&gt;There are...</td>\n",
       "      <td>3</td>\n",
       "      <td>#B8F1F5</td>\n",
       "    </tr>\n",
       "    <tr>\n",
       "      <th>111</th>\n",
       "      <td>11428</td>\n",
       "      <td>&lt;h1&gt;11428 –⁠ Queens Village&lt;/h1&gt;</td>\n",
       "      <td>&lt;h1&gt;11428 –⁠ Queens Village&lt;/h1&gt;&lt;p&gt;&lt;/p&gt;&lt;p&gt;Ther...</td>\n",
       "      <td>0</td>\n",
       "      <td>#B8F1F5</td>\n",
       "    </tr>\n",
       "    <tr>\n",
       "      <th>112</th>\n",
       "      <td>11432</td>\n",
       "      <td>&lt;h1&gt;11432 –⁠ Jamaica&lt;/h1&gt;</td>\n",
       "      <td>&lt;h1&gt;11432 –⁠ Jamaica&lt;/h1&gt;&lt;p&gt;&lt;/p&gt;&lt;p&gt;There is 1 ...</td>\n",
       "      <td>3</td>\n",
       "      <td>#B8F1F5</td>\n",
       "    </tr>\n",
       "    <tr>\n",
       "      <th>113</th>\n",
       "      <td>11434</td>\n",
       "      <td>&lt;h1&gt;11434 –⁠ Jamaica&lt;/h1&gt;</td>\n",
       "      <td>&lt;h1&gt;11434 –⁠ Jamaica&lt;/h1&gt;&lt;p&gt;&lt;/p&gt;&lt;p&gt;There are 3...</td>\n",
       "      <td>1</td>\n",
       "      <td>#B8F1F5</td>\n",
       "    </tr>\n",
       "    <tr>\n",
       "      <th>114</th>\n",
       "      <td>11691</td>\n",
       "      <td>&lt;h1&gt;11691 –⁠ Far Rockaway&lt;/h1&gt;</td>\n",
       "      <td>&lt;h1&gt;11691 –⁠ Far Rockaway&lt;/h1&gt;&lt;p&gt;&lt;/p&gt;&lt;p&gt;There ...</td>\n",
       "      <td>0</td>\n",
       "      <td>#B8F1F5</td>\n",
       "    </tr>\n",
       "  </tbody>\n",
       "</table>\n",
       "<p>115 rows × 5 columns</p>\n",
       "</div>"
      ],
      "text/plain": [
       "       zip                    properties.headline  \\\n",
       "0     7302          <h1>07302 –⁠ Jersey City</h1>   \n",
       "1     8536  <h1>08536 –⁠ Plainsboro Township</h1>   \n",
       "2    10001             <h1>10001 –⁠ New York</h1>   \n",
       "3    10002             <h1>10002 –⁠ New York</h1>   \n",
       "4    10003             <h1>10003 –⁠ New York</h1>   \n",
       "..     ...                                    ...   \n",
       "110  11426            <h1>11426 –⁠ Bellerose</h1>   \n",
       "111  11428       <h1>11428 –⁠ Queens Village</h1>   \n",
       "112  11432              <h1>11432 –⁠ Jamaica</h1>   \n",
       "113  11434              <h1>11434 –⁠ Jamaica</h1>   \n",
       "114  11691         <h1>11691 –⁠ Far Rockaway</h1>   \n",
       "\n",
       "                                    properties.article  total_appts  \\\n",
       "0    <h1>07302 –⁠ Jersey City</h1><p></p><p>There a...            6   \n",
       "1    <h1>08536 –⁠ Plainsboro Township</h1><p></p><p...            1   \n",
       "2    <h1>10001 –⁠ New York</h1><p></p><p>There are ...            9   \n",
       "3    <h1>10002 –⁠ New York</h1><p></p><p>There are ...            0   \n",
       "4    <h1>10003 –⁠ New York</h1><p></p><p>There are ...           12   \n",
       "..                                                 ...          ...   \n",
       "110  <h1>11426 –⁠ Bellerose</h1><p></p><p>There are...            3   \n",
       "111  <h1>11428 –⁠ Queens Village</h1><p></p><p>Ther...            0   \n",
       "112  <h1>11432 –⁠ Jamaica</h1><p></p><p>There is 1 ...            3   \n",
       "113  <h1>11434 –⁠ Jamaica</h1><p></p><p>There are 3...            1   \n",
       "114  <h1>11691 –⁠ Far Rockaway</h1><p></p><p>There ...            0   \n",
       "\n",
       "    properties.color  \n",
       "0            #A7E3F5  \n",
       "1            #B8F1F5  \n",
       "2            #69AEDB  \n",
       "3            #B8F1F5  \n",
       "4            #6CA7F5  \n",
       "..               ...  \n",
       "110          #B8F1F5  \n",
       "111          #B8F1F5  \n",
       "112          #B8F1F5  \n",
       "113          #B8F1F5  \n",
       "114          #B8F1F5  \n",
       "\n",
       "[115 rows x 5 columns]"
      ]
     },
     "execution_count": 671,
     "metadata": {},
     "output_type": "execute_result"
    }
   ],
   "source": [
    "output"
   ]
  },
  {
   "cell_type": "markdown",
   "id": "f461d989",
   "metadata": {},
   "source": [
    "## Creating a geojson based on this dataframe\n",
    "\n",
    "Using an NYC geojson file downloaded from https://data.beta.nyc/dataset/nyc-zip-code-tabulation-areas/resource/894e9162-871c-4552-a09c-c6915d8783fb, I created a geojson file to use in Mapbox GL"
   ]
  },
  {
   "cell_type": "code",
   "execution_count": 672,
   "id": "cea64968",
   "metadata": {},
   "outputs": [],
   "source": [
    "import requests\n",
    "import json\n",
    "import numpy as np\n",
    "import pandas as pd\n",
    "from pandas import json_normalize\n"
   ]
  },
  {
   "cell_type": "code",
   "execution_count": 673,
   "id": "efd04e64",
   "metadata": {},
   "outputs": [],
   "source": [
    "with open('zip_code_040114.geojson') as json_data:\n",
    "    geometry_data = json.load(json_data)"
   ]
  },
  {
   "cell_type": "code",
   "execution_count": 674,
   "id": "3dffaf2f",
   "metadata": {},
   "outputs": [],
   "source": [
    "map_df = pd.DataFrame.from_dict(json_normalize(geometry_data['features']), orient='columns')"
   ]
  },
  {
   "cell_type": "code",
   "execution_count": 675,
   "id": "dcdbca2f",
   "metadata": {},
   "outputs": [
    {
     "data": {
      "text/html": [
       "<div>\n",
       "<style scoped>\n",
       "    .dataframe tbody tr th:only-of-type {\n",
       "        vertical-align: middle;\n",
       "    }\n",
       "\n",
       "    .dataframe tbody tr th {\n",
       "        vertical-align: top;\n",
       "    }\n",
       "\n",
       "    .dataframe thead th {\n",
       "        text-align: right;\n",
       "    }\n",
       "</style>\n",
       "<table border=\"1\" class=\"dataframe\">\n",
       "  <thead>\n",
       "    <tr style=\"text-align: right;\">\n",
       "      <th></th>\n",
       "      <th>type</th>\n",
       "      <th>properties.ZIPCODE</th>\n",
       "      <th>properties.BLDGZIP</th>\n",
       "      <th>properties.PO_NAME</th>\n",
       "      <th>properties.POPULATION</th>\n",
       "      <th>properties.AREA</th>\n",
       "      <th>properties.STATE</th>\n",
       "      <th>properties.COUNTY</th>\n",
       "      <th>properties.ST_FIPS</th>\n",
       "      <th>properties.CTY_FIPS</th>\n",
       "      <th>properties.URL</th>\n",
       "      <th>properties.SHAPE_AREA</th>\n",
       "      <th>properties.SHAPE_LEN</th>\n",
       "      <th>geometry.type</th>\n",
       "      <th>geometry.coordinates</th>\n",
       "    </tr>\n",
       "  </thead>\n",
       "  <tbody>\n",
       "    <tr>\n",
       "      <th>0</th>\n",
       "      <td>Feature</td>\n",
       "      <td>11436</td>\n",
       "      <td>0</td>\n",
       "      <td>Jamaica</td>\n",
       "      <td>18681.0</td>\n",
       "      <td>2.269930e+07</td>\n",
       "      <td>NY</td>\n",
       "      <td>Queens</td>\n",
       "      <td>36</td>\n",
       "      <td>081</td>\n",
       "      <td>http://www.usps.com/</td>\n",
       "      <td>0.0</td>\n",
       "      <td>0.0</td>\n",
       "      <td>Polygon</td>\n",
       "      <td>[[[-73.80584847647393, 40.682909325509684], [-...</td>\n",
       "    </tr>\n",
       "    <tr>\n",
       "      <th>1</th>\n",
       "      <td>Feature</td>\n",
       "      <td>11213</td>\n",
       "      <td>0</td>\n",
       "      <td>Brooklyn</td>\n",
       "      <td>62426.0</td>\n",
       "      <td>2.963100e+07</td>\n",
       "      <td>NY</td>\n",
       "      <td>Kings</td>\n",
       "      <td>36</td>\n",
       "      <td>047</td>\n",
       "      <td>http://www.usps.com/</td>\n",
       "      <td>0.0</td>\n",
       "      <td>0.0</td>\n",
       "      <td>Polygon</td>\n",
       "      <td>[[[-73.9373976313981, 40.67972958831804], [-73...</td>\n",
       "    </tr>\n",
       "    <tr>\n",
       "      <th>2</th>\n",
       "      <td>Feature</td>\n",
       "      <td>11212</td>\n",
       "      <td>0</td>\n",
       "      <td>Brooklyn</td>\n",
       "      <td>83866.0</td>\n",
       "      <td>4.197210e+07</td>\n",
       "      <td>NY</td>\n",
       "      <td>Kings</td>\n",
       "      <td>36</td>\n",
       "      <td>047</td>\n",
       "      <td>http://www.usps.com/</td>\n",
       "      <td>0.0</td>\n",
       "      <td>0.0</td>\n",
       "      <td>Polygon</td>\n",
       "      <td>[[[-73.90294132545436, 40.67083977496735], [-7...</td>\n",
       "    </tr>\n",
       "    <tr>\n",
       "      <th>3</th>\n",
       "      <td>Feature</td>\n",
       "      <td>11225</td>\n",
       "      <td>0</td>\n",
       "      <td>Brooklyn</td>\n",
       "      <td>56527.0</td>\n",
       "      <td>2.369863e+07</td>\n",
       "      <td>NY</td>\n",
       "      <td>Kings</td>\n",
       "      <td>36</td>\n",
       "      <td>047</td>\n",
       "      <td>http://www.usps.com/</td>\n",
       "      <td>0.0</td>\n",
       "      <td>0.0</td>\n",
       "      <td>Polygon</td>\n",
       "      <td>[[[-73.9579731604348, 40.670656958042926], [-7...</td>\n",
       "    </tr>\n",
       "    <tr>\n",
       "      <th>4</th>\n",
       "      <td>Feature</td>\n",
       "      <td>11218</td>\n",
       "      <td>0</td>\n",
       "      <td>Brooklyn</td>\n",
       "      <td>72280.0</td>\n",
       "      <td>3.686880e+07</td>\n",
       "      <td>NY</td>\n",
       "      <td>Kings</td>\n",
       "      <td>36</td>\n",
       "      <td>047</td>\n",
       "      <td>http://www.usps.com/</td>\n",
       "      <td>0.0</td>\n",
       "      <td>0.0</td>\n",
       "      <td>Polygon</td>\n",
       "      <td>[[[-73.97208109564255, 40.650596586343454], [-...</td>\n",
       "    </tr>\n",
       "  </tbody>\n",
       "</table>\n",
       "</div>"
      ],
      "text/plain": [
       "      type properties.ZIPCODE properties.BLDGZIP properties.PO_NAME  \\\n",
       "0  Feature              11436                  0            Jamaica   \n",
       "1  Feature              11213                  0           Brooklyn   \n",
       "2  Feature              11212                  0           Brooklyn   \n",
       "3  Feature              11225                  0           Brooklyn   \n",
       "4  Feature              11218                  0           Brooklyn   \n",
       "\n",
       "   properties.POPULATION  properties.AREA properties.STATE properties.COUNTY  \\\n",
       "0                18681.0     2.269930e+07               NY            Queens   \n",
       "1                62426.0     2.963100e+07               NY             Kings   \n",
       "2                83866.0     4.197210e+07               NY             Kings   \n",
       "3                56527.0     2.369863e+07               NY             Kings   \n",
       "4                72280.0     3.686880e+07               NY             Kings   \n",
       "\n",
       "  properties.ST_FIPS properties.CTY_FIPS        properties.URL  \\\n",
       "0                 36                 081  http://www.usps.com/   \n",
       "1                 36                 047  http://www.usps.com/   \n",
       "2                 36                 047  http://www.usps.com/   \n",
       "3                 36                 047  http://www.usps.com/   \n",
       "4                 36                 047  http://www.usps.com/   \n",
       "\n",
       "   properties.SHAPE_AREA  properties.SHAPE_LEN geometry.type  \\\n",
       "0                    0.0                   0.0       Polygon   \n",
       "1                    0.0                   0.0       Polygon   \n",
       "2                    0.0                   0.0       Polygon   \n",
       "3                    0.0                   0.0       Polygon   \n",
       "4                    0.0                   0.0       Polygon   \n",
       "\n",
       "                                geometry.coordinates  \n",
       "0  [[[-73.80584847647393, 40.682909325509684], [-...  \n",
       "1  [[[-73.9373976313981, 40.67972958831804], [-73...  \n",
       "2  [[[-73.90294132545436, 40.67083977496735], [-7...  \n",
       "3  [[[-73.9579731604348, 40.670656958042926], [-7...  \n",
       "4  [[[-73.97208109564255, 40.650596586343454], [-...  "
      ]
     },
     "execution_count": 675,
     "metadata": {},
     "output_type": "execute_result"
    }
   ],
   "source": [
    "map_df.head()"
   ]
  },
  {
   "cell_type": "code",
   "execution_count": 676,
   "id": "05be6a36",
   "metadata": {},
   "outputs": [],
   "source": [
    "map_df.drop(labels=['properties.URL', 'properties.SHAPE_AREA', 'properties.SHAPE_LEN', 'properties.CTY_FIPS', 'properties.ST_FIPS', 'properties.BLDGZIP', 'properties.STATE'], axis=1, inplace=True)"
   ]
  },
  {
   "cell_type": "code",
   "execution_count": 677,
   "id": "f587f8e9",
   "metadata": {},
   "outputs": [
    {
     "data": {
      "text/html": [
       "<div>\n",
       "<style scoped>\n",
       "    .dataframe tbody tr th:only-of-type {\n",
       "        vertical-align: middle;\n",
       "    }\n",
       "\n",
       "    .dataframe tbody tr th {\n",
       "        vertical-align: top;\n",
       "    }\n",
       "\n",
       "    .dataframe thead th {\n",
       "        text-align: right;\n",
       "    }\n",
       "</style>\n",
       "<table border=\"1\" class=\"dataframe\">\n",
       "  <thead>\n",
       "    <tr style=\"text-align: right;\">\n",
       "      <th></th>\n",
       "      <th>type</th>\n",
       "      <th>properties.ZIPCODE</th>\n",
       "      <th>properties.PO_NAME</th>\n",
       "      <th>properties.POPULATION</th>\n",
       "      <th>properties.AREA</th>\n",
       "      <th>properties.COUNTY</th>\n",
       "      <th>geometry.type</th>\n",
       "      <th>geometry.coordinates</th>\n",
       "    </tr>\n",
       "  </thead>\n",
       "  <tbody>\n",
       "    <tr>\n",
       "      <th>0</th>\n",
       "      <td>Feature</td>\n",
       "      <td>11436</td>\n",
       "      <td>Jamaica</td>\n",
       "      <td>18681.0</td>\n",
       "      <td>2.269930e+07</td>\n",
       "      <td>Queens</td>\n",
       "      <td>Polygon</td>\n",
       "      <td>[[[-73.80584847647393, 40.682909325509684], [-...</td>\n",
       "    </tr>\n",
       "    <tr>\n",
       "      <th>1</th>\n",
       "      <td>Feature</td>\n",
       "      <td>11213</td>\n",
       "      <td>Brooklyn</td>\n",
       "      <td>62426.0</td>\n",
       "      <td>2.963100e+07</td>\n",
       "      <td>Kings</td>\n",
       "      <td>Polygon</td>\n",
       "      <td>[[[-73.9373976313981, 40.67972958831804], [-73...</td>\n",
       "    </tr>\n",
       "    <tr>\n",
       "      <th>2</th>\n",
       "      <td>Feature</td>\n",
       "      <td>11212</td>\n",
       "      <td>Brooklyn</td>\n",
       "      <td>83866.0</td>\n",
       "      <td>4.197210e+07</td>\n",
       "      <td>Kings</td>\n",
       "      <td>Polygon</td>\n",
       "      <td>[[[-73.90294132545436, 40.67083977496735], [-7...</td>\n",
       "    </tr>\n",
       "    <tr>\n",
       "      <th>3</th>\n",
       "      <td>Feature</td>\n",
       "      <td>11225</td>\n",
       "      <td>Brooklyn</td>\n",
       "      <td>56527.0</td>\n",
       "      <td>2.369863e+07</td>\n",
       "      <td>Kings</td>\n",
       "      <td>Polygon</td>\n",
       "      <td>[[[-73.9579731604348, 40.670656958042926], [-7...</td>\n",
       "    </tr>\n",
       "    <tr>\n",
       "      <th>4</th>\n",
       "      <td>Feature</td>\n",
       "      <td>11218</td>\n",
       "      <td>Brooklyn</td>\n",
       "      <td>72280.0</td>\n",
       "      <td>3.686880e+07</td>\n",
       "      <td>Kings</td>\n",
       "      <td>Polygon</td>\n",
       "      <td>[[[-73.97208109564255, 40.650596586343454], [-...</td>\n",
       "    </tr>\n",
       "  </tbody>\n",
       "</table>\n",
       "</div>"
      ],
      "text/plain": [
       "      type properties.ZIPCODE properties.PO_NAME  properties.POPULATION  \\\n",
       "0  Feature              11436            Jamaica                18681.0   \n",
       "1  Feature              11213           Brooklyn                62426.0   \n",
       "2  Feature              11212           Brooklyn                83866.0   \n",
       "3  Feature              11225           Brooklyn                56527.0   \n",
       "4  Feature              11218           Brooklyn                72280.0   \n",
       "\n",
       "   properties.AREA properties.COUNTY geometry.type  \\\n",
       "0     2.269930e+07            Queens       Polygon   \n",
       "1     2.963100e+07             Kings       Polygon   \n",
       "2     4.197210e+07             Kings       Polygon   \n",
       "3     2.369863e+07             Kings       Polygon   \n",
       "4     3.686880e+07             Kings       Polygon   \n",
       "\n",
       "                                geometry.coordinates  \n",
       "0  [[[-73.80584847647393, 40.682909325509684], [-...  \n",
       "1  [[[-73.9373976313981, 40.67972958831804], [-73...  \n",
       "2  [[[-73.90294132545436, 40.67083977496735], [-7...  \n",
       "3  [[[-73.9579731604348, 40.670656958042926], [-7...  \n",
       "4  [[[-73.97208109564255, 40.650596586343454], [-...  "
      ]
     },
     "execution_count": 677,
     "metadata": {},
     "output_type": "execute_result"
    }
   ],
   "source": [
    "map_df.head()"
   ]
  },
  {
   "cell_type": "code",
   "execution_count": 678,
   "id": "ed4bd021",
   "metadata": {},
   "outputs": [],
   "source": [
    "output = output.rename(columns={'zip':'properties.ZIPCODE'})\n",
    "output.drop(labels='total_appts', axis=1, inplace=True)\n",
    "output['properties.ZIPCODE'] = output['properties.ZIPCODE'].astype(str)"
   ]
  },
  {
   "cell_type": "code",
   "execution_count": 679,
   "id": "5316c036",
   "metadata": {},
   "outputs": [],
   "source": [
    "map_df = map_df.merge(output, on='properties.ZIPCODE')"
   ]
  },
  {
   "cell_type": "code",
   "execution_count": 680,
   "id": "3a068696",
   "metadata": {},
   "outputs": [],
   "source": [
    "map_df = map_df.rename(columns={'properties.ZIPCODE':'properties.name'})"
   ]
  },
  {
   "cell_type": "code",
   "execution_count": 681,
   "id": "fe51cb69",
   "metadata": {},
   "outputs": [],
   "source": [
    "ok_json = json.loads(map_df.to_json(orient='records'))"
   ]
  },
  {
   "cell_type": "code",
   "execution_count": 682,
   "id": "cecbde90",
   "metadata": {},
   "outputs": [],
   "source": [
    "def process_to_geojson(file):\n",
    "    geo_data = {\"type\": \"FeatureCollection\", \"features\":[]}\n",
    "    for row in file:\n",
    "        this_dict = {\"type\": \"Feature\", \"properties\":{}, \"geometry\": {}}\n",
    "        for key, value in row.items():\n",
    "            key_names = key.split('.')\n",
    "            if key_names[0] == 'geometry':\n",
    "                this_dict['geometry'][key_names[1]] = value\n",
    "            if str(key_names[0]) == 'properties':\n",
    "                this_dict['properties'][key_names[1]] = value\n",
    "        geo_data['features'].append(this_dict)\n",
    "    return geo_data"
   ]
  },
  {
   "cell_type": "code",
   "execution_count": 683,
   "id": "d4d6f9fa",
   "metadata": {},
   "outputs": [],
   "source": [
    "geo_format = process_to_geojson(ok_json)"
   ]
  },
  {
   "cell_type": "code",
   "execution_count": 684,
   "id": "c7464273",
   "metadata": {},
   "outputs": [],
   "source": [
    "with open('geo-data.js', 'w') as outfile:\n",
    "    outfile.write(\"var infoData = \")\n",
    "with open('geo-data.js', 'a') as outfile:\n",
    "    json.dump(geo_format, outfile)"
   ]
  }
 ],
 "metadata": {
  "kernelspec": {
   "display_name": "Python 3 (ipykernel)",
   "language": "python",
   "name": "python3"
  },
  "language_info": {
   "codemirror_mode": {
    "name": "ipython",
    "version": 3
   },
   "file_extension": ".py",
   "mimetype": "text/x-python",
   "name": "python",
   "nbconvert_exporter": "python",
   "pygments_lexer": "ipython3",
   "version": "3.10.0"
  }
 },
 "nbformat": 4,
 "nbformat_minor": 5
}
